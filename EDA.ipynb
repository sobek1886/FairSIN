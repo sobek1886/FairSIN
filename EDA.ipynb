{
 "cells": [
  {
   "cell_type": "code",
   "execution_count": 94,
   "metadata": {},
   "outputs": [],
   "source": [
    "from dataset import *"
   ]
  },
  {
   "cell_type": "code",
   "execution_count": 95,
   "metadata": {},
   "outputs": [
    {
     "name": "stdout",
     "output_type": "stream",
     "text": [
      "Loading graph for dataset: pokec_z from ./output/pokec_z.bin\n",
      "{'test_index': tensor([0, 0, 0,  ..., 0, 0, 0], dtype=torch.uint8), 'val_index': tensor([0, 0, 0,  ..., 0, 1, 0], dtype=torch.uint8), 'train_index': tensor([0, 0, 1,  ..., 0, 0, 0], dtype=torch.uint8), 'label': tensor([-1, -1,  1,  ..., -1,  1, -1]), 'sensitive': tensor([0., 1., 0.,  ..., 1., 0., 1.]), 'feature': tensor([[ 1., 14.,  1.,  ...,  0.,  0.,  0.],\n",
      "        [ 0., 33.,  1.,  ...,  0.,  0.,  0.],\n",
      "        [ 1., 66.,  1.,  ...,  0.,  0.,  0.],\n",
      "        ...,\n",
      "        [ 1., 12.,  0.,  ...,  0.,  0.,  0.],\n",
      "        [ 1., 47.,  1.,  ...,  0.,  0.,  0.],\n",
      "        [ 1., 12.,  1.,  ...,  0.,  0.,  0.]])}\n",
      "Graph successfully loaded.\n"
     ]
    }
   ],
   "source": [
    "data, sens_idx, x_min, x_max = get_dataset('pokec_z')"
   ]
  },
  {
   "cell_type": "code",
   "execution_count": 96,
   "metadata": {},
   "outputs": [],
   "source": [
    "num_features, num_classes = data.x.shape[1], 2-1 # binary classes are 0,1'''"
   ]
  },
  {
   "cell_type": "code",
   "execution_count": 97,
   "metadata": {},
   "outputs": [
    {
     "name": "stdout",
     "output_type": "stream",
     "text": [
      "276\n"
     ]
    }
   ],
   "source": [
    "print(num_features)"
   ]
  },
  {
   "cell_type": "code",
   "execution_count": 98,
   "metadata": {},
   "outputs": [
    {
     "name": "stdout",
     "output_type": "stream",
     "text": [
      "1\n"
     ]
    }
   ],
   "source": [
    "print(num_classes)"
   ]
  },
  {
   "cell_type": "code",
   "execution_count": 99,
   "metadata": {},
   "outputs": [
    {
     "data": {
      "text/plain": [
       "['adj_norm_sp',\n",
       " 'test_mask',\n",
       " 'sens',\n",
       " 'x',\n",
       " 'edge_index',\n",
       " 'val_mask',\n",
       " 'adj',\n",
       " 'train_mask',\n",
       " 'y']"
      ]
     },
     "execution_count": 99,
     "metadata": {},
     "output_type": "execute_result"
    }
   ],
   "source": [
    "data.keys"
   ]
  },
  {
   "cell_type": "code",
   "execution_count": 103,
   "metadata": {},
   "outputs": [
    {
     "data": {
      "text/plain": [
       "<COOrdinate sparse matrix of dtype 'float32'\n",
       "\twith 1303712 stored elements and shape (67796, 67796)>"
      ]
     },
     "execution_count": 103,
     "metadata": {},
     "output_type": "execute_result"
    }
   ],
   "source": [
    "data.adj"
   ]
  },
  {
   "cell_type": "code",
   "execution_count": 100,
   "metadata": {},
   "outputs": [
    {
     "data": {
      "text/plain": [
       "torch.Size([67796])"
      ]
     },
     "execution_count": 100,
     "metadata": {},
     "output_type": "execute_result"
    }
   ],
   "source": [
    "data.sens.shape"
   ]
  },
  {
   "cell_type": "code",
   "execution_count": 101,
   "metadata": {},
   "outputs": [
    {
     "data": {
      "text/plain": [
       "torch.Size([67796, 276])"
      ]
     },
     "execution_count": 101,
     "metadata": {},
     "output_type": "execute_result"
    }
   ],
   "source": [
    "data.x.shape"
   ]
  },
  {
   "cell_type": "code",
   "execution_count": 82,
   "metadata": {},
   "outputs": [
    {
     "name": "stdout",
     "output_type": "stream",
     "text": [
      "       0         1         2     3         4      5         6         7     \\\n",
      "0  1.000000 -0.523810  0.076923   9.0 -0.272727 -0.500 -0.529412  0.142857   \n",
      "1 -0.121212 -0.619048  1.000000   8.0 -0.363636 -0.625 -0.705882 -0.571429   \n",
      "2 -0.303030 -0.714286 -0.179487   5.0 -0.727273 -0.750 -1.000000 -0.714286   \n",
      "3 -0.272727 -0.809524 -0.282051   4.0  0.818182 -0.500 -0.764706 -1.000000   \n",
      "4 -0.515152 -0.904762 -0.897436   4.0  0.181818 -0.750 -0.941176  0.000000   \n",
      "\n",
      "       8         9     ...  2520  2521  2522  2523  2524  2525  2526  2527  \\\n",
      "0 -1.000000 -0.333333  ...  -1.0  -1.0  -1.0  -1.0  -1.0  -1.0  -1.0   NaN   \n",
      "1 -1.000000 -0.555556  ...  -1.0  -1.0  -1.0  -1.0  -1.0  -1.0  -1.0   NaN   \n",
      "2 -0.809524 -0.777778  ...  -1.0  -1.0  -1.0  -1.0  -1.0  -1.0  -1.0   NaN   \n",
      "3 -1.000000 -0.333333  ...  -1.0  -1.0  -1.0  -1.0  -1.0  -1.0  -1.0   NaN   \n",
      "4 -0.809524 -0.777778  ...  -1.0  -1.0  -1.0  -1.0  -1.0  -1.0  -1.0   NaN   \n",
      "\n",
      "   2528  2529  \n",
      "0   NaN   NaN  \n",
      "1   NaN   NaN  \n",
      "2   NaN   NaN  \n",
      "3   NaN   NaN  \n",
      "4   NaN   NaN  \n",
      "\n",
      "[5 rows x 2530 columns]\n"
     ]
    }
   ],
   "source": [
    "\n",
    "\n",
    "# Assuming data.x is your tensor\n",
    "df = pd.DataFrame(data.x.numpy())  # Convert tensor to numpy array and then to DataFrame\n",
    "\n",
    "# Now you can work with the DataFrame for easier analysis\n",
    "print(df.head())  # Display the first few rows of the DataFrame\n"
   ]
  },
  {
   "cell_type": "code",
   "execution_count": 83,
   "metadata": {},
   "outputs": [
    {
     "name": "stdout",
     "output_type": "stream",
     "text": [
      "['indices', 'indptr', 'format', 'shape', 'data']\n"
     ]
    }
   ],
   "source": [
    "\n",
    "\n",
    "\n",
    "# Load the .npz file\n",
    "npz = np.load('output/dblp_csr_emb.npz')\n",
    "\n",
    "# List the names of arrays in the .npz file\n",
    "print(npz.files)\n",
    "\n"
   ]
  },
  {
   "cell_type": "code",
   "execution_count": 84,
   "metadata": {},
   "outputs": [
    {
     "data": {
      "text/plain": [
       "(331113,)"
      ]
     },
     "execution_count": 84,
     "metadata": {},
     "output_type": "execute_result"
    }
   ],
   "source": [
    "npz['data'].shape"
   ]
  }
 ],
 "metadata": {
  "kernelspec": {
   "display_name": "fact_fairsin",
   "language": "python",
   "name": "python3"
  },
  "language_info": {
   "codemirror_mode": {
    "name": "ipython",
    "version": 3
   },
   "file_extension": ".py",
   "mimetype": "text/x-python",
   "name": "python",
   "nbconvert_exporter": "python",
   "pygments_lexer": "ipython3",
   "version": "3.12.8"
  }
 },
 "nbformat": 4,
 "nbformat_minor": 2
}
